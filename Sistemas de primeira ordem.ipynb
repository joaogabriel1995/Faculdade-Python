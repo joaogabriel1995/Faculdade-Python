{
 "cells": [
  {
   "cell_type": "code",
   "execution_count": 328,
   "metadata": {},
   "outputs": [],
   "source": [
    "from sympy import  *\n",
    "import matplotlib.pyplot as plt\n",
    "from sympy.abc import t # x is the independent variable\n",
    "from PIL import Image\n",
    "import numpy as np\n",
    "init_printing()\n",
    "%matplotlib inline"
   ]
  },
  {
   "cell_type": "markdown",
   "metadata": {},
   "source": [
    "<h1 style=\"text-align:center\"> Sistemas de primeira ordem</h1>"
   ]
  },
  {
   "cell_type": "markdown",
   "metadata": {},
   "source": [
    "<ul>\n",
    "    \n",
    "<li><p>A partir do momento que foi modelada a função de transferência, podemos então analisar o desempenho do sistema a partir de suas resposta.</p></li>\n",
    "<li><p>Sinais de entradas tipicos para se analisar as respostas das funções de transferência são degrau, rampa, senoide</p></li>\n",
    "<li><p>A resposta de um sistema de controle é constituida por duas partes, a parte transitória e a resposta estacionária</p></li>\n",
    "</ul>"
   ]
  },
  {
   "cell_type": "code",
   "execution_count": 329,
   "metadata": {},
   "outputs": [],
   "source": [
    "#Definindo funções para nosso estudo\n",
    "t, s,x= symbols(\"t s x\")\n",
    "T = symbols(\"T\", integer=True, positive=True)\n",
    "C = Function(\"c_total\")(t)\n",
    "C_transitoria  = Function(\"c_transitoria\")(t)\n",
    "C_estacionária  = Function(\"c_estacionária\")(t)\n",
    "C = Function(\"C\")(s)\n",
    "R = Function(\"R\")(s)"
   ]
  },
  {
   "cell_type": "code",
   "execution_count": 330,
   "metadata": {
    "scrolled": true
   },
   "outputs": [
    {
     "name": "stdout",
     "output_type": "stream",
     "text": [
      "A resposta C_total pode ser escrita da seguinte forma\n"
     ]
    },
    {
     "data": {
      "image/png": "[encoded data removed]",
      "text/latex": [
       "$\\displaystyle C{\\left(s \\right)} = \\operatorname{c_{estacionária}}{\\left(t \\right)} + \\operatorname{c_{transitoria}}{\\left(t \\right)}$"
      ],
      "text/plain": [
       "C(s) = c_estacionária(t) + cₜᵣₐₙₛᵢₜₒᵣᵢₐ(t)"
      ]
     },
     "metadata": {},
     "output_type": "display_data"
    },
    {
     "name": "stdout",
     "output_type": "stream",
     "text": [
      "O diagrama de blocos de um sistema de primeira ordem pode \n",
      "ser representado da seguinte forma\n"
     ]
    },
    {
     "data": {
      "image/png": "[encoded data removed]",
      "text/plain": [
       "<PIL.PngImagePlugin.PngImageFile image mode=RGBA size=431x116 at 0x1F38254F6A0>"
      ]
     },
     "execution_count": 330,
     "metadata": {},
     "output_type": "execute_result"
    }
   ],
   "source": [
    "print(\"A resposta C_total pode ser escrita da seguinte forma\")\n",
    "display(Eq(C, C_transitoria + C_estacionária))\n",
    "print(\"O diagrama de blocos de um sistema de primeira ordem pode \\nser representado da seguinte forma\")\n",
    "Image.open(\"SPO.png\")"
   ]
  },
  {
   "cell_type": "markdown",
   "metadata": {},
   "source": [
    "Fisicamente o diagrama de blocos acima pode representar um circuito RC, um sistemas termico, ou algo semelhante.\n"
   ]
  },
  {
   "cell_type": "code",
   "execution_count": 331,
   "metadata": {},
   "outputs": [
    {
     "name": "stdout",
     "output_type": "stream",
     "text": [
      "Relação entrada e saida pode ser descrita como:\n"
     ]
    },
    {
     "data": {
      "image/png": "[encoded data removed]",
      "text/latex": [
       "$\\displaystyle \\frac{C{\\left(s \\right)}}{R{\\left(s \\right)}} = \\frac{1}{T s + 1}$"
      ],
      "text/plain": [
       "C(s)      1   \n",
       "──── = ───────\n",
       "R(s)   T⋅s + 1"
      ]
     },
     "execution_count": 331,
     "metadata": {},
     "output_type": "execute_result"
    }
   ],
   "source": [
    "print(\"Relação entrada e saida pode ser descrita como:\")\n",
    "eq = [None]*20\n",
    "eq[0] = C/R\n",
    "eq[1] = 1/(T*s +1)\n",
    "Eq(eq[0], eq[1])"
   ]
  },
  {
   "cell_type": "code",
   "execution_count": 332,
   "metadata": {},
   "outputs": [
    {
     "name": "stdout",
     "output_type": "stream",
     "text": [
      "Iremos considerar R(s) sendo um degrau unitário e logo em seguida iremos\n",
      " expandir em frações parciais\n"
     ]
    },
    {
     "data": {
      "image/png": "[encoded data removed]",
      "text/latex": [
       "$\\displaystyle \\frac{C{\\left(s \\right)}}{R{\\left(s \\right)}} = \\frac{1}{s \\left(T s + 1\\right)}$"
      ],
      "text/plain": [
       "C(s)        1     \n",
       "──── = ───────────\n",
       "R(s)   s⋅(T⋅s + 1)"
      ]
     },
     "execution_count": 332,
     "metadata": {},
     "output_type": "execute_result"
    }
   ],
   "source": [
    "print(\"Iremos considerar R(s) sendo um degrau unitário e logo em seguida iremos\\n expandir em frações parciais\")\n",
    "Eq(eq[0],eq[1] * 1/s)"
   ]
  },
  {
   "cell_type": "code",
   "execution_count": 333,
   "metadata": {},
   "outputs": [
    {
     "name": "stdout",
     "output_type": "stream",
     "text": [
      "Expandindo em frações parciais temos:\n"
     ]
    },
    {
     "data": {
      "image/png": "[encoded data removed]",
      "text/latex": [
       "$\\displaystyle \\frac{C{\\left(s \\right)}}{R{\\left(s \\right)}} = - \\frac{T}{T s + 1} + \\frac{1}{s}$"
      ],
      "text/plain": [
       "C(s)        T      1\n",
       "──── = - ─────── + ─\n",
       "R(s)     T⋅s + 1   s"
      ]
     },
     "execution_count": 333,
     "metadata": {},
     "output_type": "execute_result"
    }
   ],
   "source": [
    "print(\"Expandindo em frações parciais temos:\")\n",
    "eq[2]=eq[1]*1/s\n",
    "eq[2] = eq[2].subs(s, x)\n",
    "eq[2] = apart(eq[2]).subs(x, s)\n",
    "Eq(eq[0],eq[2])"
   ]
  },
  {
   "cell_type": "code",
   "execution_count": 334,
   "metadata": {},
   "outputs": [
    {
     "name": "stdout",
     "output_type": "stream",
     "text": [
      "Podemos perceber que a inversa de laplace de C(s) ficara da seguinte forma\n"
     ]
    },
    {
     "data": {
      "image/png": "[encoded data removed]",
      "text/latex": [
       "$\\displaystyle \\theta\\left(t\\right) - e^{- \\frac{t}{T}} \\theta\\left(t\\right)$"
      ],
      "text/plain": [
       "        -t      \n",
       "        ───     \n",
       "         T      \n",
       "θ(t) - ℯ   ⋅θ(t)"
      ]
     },
     "execution_count": 334,
     "metadata": {},
     "output_type": "execute_result"
    }
   ],
   "source": [
    "print(\"Podemos perceber que a inversa de laplace de C(s) ficara da seguinte forma\")\n",
    "eq[3] =inverse_laplace_transform(eq[2], s, t)\n",
    "eq[3]"
   ]
  },
  {
   "cell_type": "code",
   "execution_count": 335,
   "metadata": {},
   "outputs": [],
   "source": [
    "funcao = Function(\"funcao\")(t)\n",
    "funcao = Lambda(t, 1-(E**(-t)))"
   ]
  },
  {
   "cell_type": "code",
   "execution_count": 336,
   "metadata": {},
   "outputs": [],
   "source": [
    "vetor= []\n",
    "t = np.linspace(0, 5, 300)\n",
    "for i in t:\n",
    "    vetor.append(funcao(i))\n"
   ]
  },
  {
   "cell_type": "code",
   "execution_count": null,
   "metadata": {},
   "outputs": [],
   "source": []
  },
  {
   "cell_type": "code",
   "execution_count": 350,
   "metadata": {},
   "outputs": [
    {
     "name": "stdout",
     "output_type": "stream",
     "text": [
      "Podemos perceber que todas funçoes de primeira ordem possuiram a seguinte cara\n"
     ]
    },
    {
     "data": {
      "image/png": "[encoded data removed]",
      "text/plain": [
       "<Figure size 432x288 with 1 Axes>"
      ]
     },
     "metadata": {
      "needs_background": "light"
     },
     "output_type": "display_data"
    }
   ],
   "source": [
    "t1 =np.linspace(0,1,300)\n",
    "print(\"Podemos perceber que todas funçoes de primeira ordem possuiram a seguinte cara\")\n",
    "fig, ax = plt.subplots()\n",
    "ax.plot(t, vetor)\n",
    "ax.hlines(1,0,100, \"g\")\n",
    "ax.plot(t1, 1*t1)\n",
    "ax.set_xlim(0,5)\n",
    "ax.set_ylim(0,1.5)\n",
    "ax.grid()\n",
    "ax.set_xlabel(\"Tempo\")\n",
    "plt.xticks(np.linspace(0,5,6), np.linspace(0,5,6)*T);\n",
    "\n",
    "\n"
   ]
  }
 ],
 "metadata": {
  "kernelspec": {
   "display_name": "Python 3",
   "language": "python",
   "name": "python3"
  },
  "language_info": {
   "codemirror_mode": {
    "name": "ipython",
    "version": 3
   },
   "file_extension": ".py",
   "mimetype": "text/x-python",
   "name": "python",
   "nbconvert_exporter": "python",
   "pygments_lexer": "ipython3",
   "version": "3.8.5"
  }
 },
 "nbformat": 4,
 "nbformat_minor": 4
}
