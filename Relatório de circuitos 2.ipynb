{
 "cells": [
  {
   "cell_type": "markdown",
   "metadata": {},
   "source": [
    "<h1 style=\"text-align:center\">Relátorio de Circuitos Elétricos 2</h1>"
   ]
  },
  {
   "cell_type": "markdown",
   "metadata": {},
   "source": [
    "<ul>\n",
    "    <li><b>Nome</b>: João Gabriel Andrade de Freitas </li>\n",
    "    <li><b>Ra</b>: 1706020</li>\n",
    "    <li><b>Matéria:</b> Circuitos Elétricos 2 </li>\n",
    "    <li><b>Turma</b> A51</li>\n",
    "\n",
    "\n",
    "\n",
    "</ul>"
   ]
  },
  {
   "cell_type": "code",
   "execution_count": 444,
   "metadata": {},
   "outputs": [
    {
     "name": "stdout",
     "output_type": "stream",
     "text": [
      "Requirement already satisfied: sympy in c:\\users\\joaog\\anaconda3\\lib\\site-packages (1.6.2)\n",
      "Requirement already satisfied: mpmath>=0.19 in c:\\users\\joaog\\anaconda3\\lib\\site-packages (from sympy) (1.1.0)\n",
      "Note: you may need to restart the kernel to use updated packages.\n"
     ]
    }
   ],
   "source": [
    "pip install sympy"
   ]
  },
  {
   "cell_type": "code",
   "execution_count": 445,
   "metadata": {},
   "outputs": [],
   "source": [
    "import matplotlib.pyplot as plt\n",
    "import numpy as np\n",
    "import sympy as sym\n",
    "sym.init_printing()\n"
   ]
  },
  {
   "cell_type": "markdown",
   "metadata": {},
   "source": [
    "<h2 style=\"text-align:center\">Tarefa 6- Exercícios da Aula 7 </h2>"
   ]
  },
  {
   "cell_type": "markdown",
   "metadata": {},
   "source": [
    "<div>\n",
    "    <h3>Exercício 1</h3>\n",
    "    <p> <font size=\"3\" face=\"Verdana\">Calcule a resposta natural, focanda e compleata. Calcule também a constante de tempo(τ). Plotar as três curvas com o Octave.</font></p>\n",
    "    <img src=\"c1.png\" width=\"300\" height=\"200\">\n",
    "</div>\n"
   ]
  },
  {
   "cell_type": "markdown",
   "metadata": {},
   "source": [
    "<h4>Resposta Natural </h4>\n",
    "<p>A formula para a resposta natural no sistema </p>"
   ]
  },
  {
   "cell_type": "code",
   "execution_count": 446,
   "metadata": {},
   "outputs": [
    {
     "data": {
      "image/png": "[encoded data removed]",
      "text/latex": [
       "$\\displaystyle \\left( t \\mapsto I_{0} e^{- \\frac{R t}{L}} \\right)$"
      ],
      "text/plain": [
       "        -R⋅t \n",
       "        ─────\n",
       "          L  \n",
       "t ↦ I₀⋅ℯ     "
      ]
     },
     "execution_count": 446,
     "metadata": {},
     "output_type": "execute_result"
    }
   ],
   "source": [
    "i = sym.Function(\"eq1\") #definimos i sendo uma função\n",
    "I_0, R, L, t= sym.symbols(\"I_0 R L t\") #definimos nossas variavéis \n",
    "i = sym.Lambda(t, I_0*(sym.E**((-R/L)*t))) #formula para resposta natural\n",
    "i"
   ]
  },
  {
   "cell_type": "markdown",
   "metadata": {},
   "source": [
    "<p><font size=\"3\">Iremos Substituir os valores de R, L, e I<sub>0</sub> na formula acima</font></p>"
   ]
  },
  {
   "cell_type": "code",
   "execution_count": 447,
   "metadata": {},
   "outputs": [
    {
     "data": {
      "image/png": "[encoded data removed]",
      "text/latex": [
       "$\\displaystyle \\left( t \\mapsto 0.5 e^{- 235.0 t} \\right)$"
      ],
      "text/plain": [
       "         -235.0⋅t\n",
       "t ↦ 0.5⋅ℯ        "
      ]
     },
     "execution_count": 447,
     "metadata": {},
     "output_type": "execute_result"
    }
   ],
   "source": [
    "i = i.subs([(R, 47) , (I_0, 0.5), (L, 0.2)])\n",
    "i"
   ]
  },
  {
   "cell_type": "markdown",
   "metadata": {},
   "source": [
    "<p>Temos a contante 𝜏 </p>"
   ]
  },
  {
   "cell_type": "code",
   "execution_count": 450,
   "metadata": {},
   "outputs": [
    {
     "name": "stdout",
     "output_type": "stream",
     "text": [
      "A constante 𝜏 tem a seguinte relação\n"
     ]
    },
    {
     "data": {
      "image/png": "[encoded data removed]",
      "text/latex": [
       "$\\displaystyle \\frac{L}{R}$"
      ],
      "text/plain": [
       "L\n",
       "─\n",
       "R"
      ]
     },
     "execution_count": 450,
     "metadata": {},
     "output_type": "execute_result"
    }
   ],
   "source": [
    "𝜏 = sym.Function(\"tal\")\n",
    "𝜏 = L/R\n",
    "print(\"A constante 𝜏 tem a seguinte relação\")\n",
    "𝜏"
   ]
  },
  {
   "cell_type": "markdown",
   "metadata": {},
   "source": [
    "Substituindo os valores de L e R teremos 𝜏 igual a:"
   ]
  },
  {
   "cell_type": "code",
   "execution_count": 6,
   "metadata": {},
   "outputs": [
    {
     "data": {
      "image/png": "[encoded data removed]",
      "text/latex": [
       "$\\displaystyle 0.00425531914893617$"
      ],
      "text/plain": [
       "0.00425531914893617"
      ]
     },
     "execution_count": 6,
     "metadata": {},
     "output_type": "execute_result"
    }
   ],
   "source": [
    "𝜏 = 𝜏.subs([(R, 47), (L, 0.2)])\n",
    "𝜏"
   ]
  },
  {
   "cell_type": "markdown",
   "metadata": {},
   "source": [
    "Substituiremos esse valor na Resposta natural do nosso sistema"
   ]
  },
  {
   "cell_type": "code",
   "execution_count": 7,
   "metadata": {},
   "outputs": [
    {
     "data": {
      "image/png": "[encoded data removed]",
      "text/latex": [
       "$\\displaystyle 0.183939720585721$"
      ],
      "text/plain": [
       "0.183939720585721"
      ]
     },
     "execution_count": 7,
     "metadata": {},
     "output_type": "execute_result"
    }
   ],
   "source": [
    "#A função i com t = 𝜏 = 0.0042 \n",
    "i(𝜏)"
   ]
  },
  {
   "cell_type": "code",
   "execution_count": 8,
   "metadata": {},
   "outputs": [
    {
     "data": {
      "image/png": "[encoded data removed]",
      "text/plain": [
       "<Figure size 864x432 with 1 Axes>"
      ]
     },
     "metadata": {
      "needs_background": "light"
     },
     "output_type": "display_data"
    }
   ],
   "source": [
    "#valores para serem plotados no gráfico\n",
    "vetor = []\n",
    "for j in np.linspace(0,1,800):\n",
    "    vetor.append(i(j))\n",
    "\n",
    "#codigo para criação do nosso gráfico de resposta natural\n",
    "fig, ax = plt.subplots(figsize=(12,6))\n",
    "ax.plot(np.linspace(0,1,800), vetor, \"b-\", linewidth = 2, label= \"Corrente\")\n",
    "ax.plot(0.00425531914893617 , 0.183939720585721, \"o\")\n",
    "plt.xlim(0,0.03)\n",
    "plt.ylim(0,0.55)\n",
    "plt.legend()\n",
    "plt.hlines(0.183939720585721, 0, 0.00425531914893617, linestyles=\"dashed\")\n",
    "plt.vlines(0.00425531914893617, 0, 0.183939720585721, linestyles=\"dashed\")\n",
    "plt.title(\"Resposta Natural \")\n",
    "plt.xlabel(\"Tempo\")\n",
    "plt.ylabel(\"i(t)\")\n",
    "ax.grid()\n",
    "ax.annotate( \"Constante de tempo\", xy=(0.00425531914893617, 0), xytext=(0.00225531914893617, -0.1),arrowprops=dict(facecolor='red', shrink=0.5, ), annotation_clip =False);"
   ]
  },
  {
   "cell_type": "markdown",
   "metadata": {},
   "source": [
    "<h4>Resposta Forçada </h4>"
   ]
  },
  {
   "cell_type": "code",
   "execution_count": 9,
   "metadata": {},
   "outputs": [
    {
     "data": {
      "image/png": "[encoded data removed]",
      "text/latex": [
       "$\\displaystyle \\left( t \\mapsto \\frac{V_{0}}{R} - \\frac{V_{0} e^{- \\frac{R t}{L}}}{R} \\right)$"
      ],
      "text/plain": [
       "             -R⋅t \n",
       "             ─────\n",
       "               L  \n",
       "    V₀   V₀⋅ℯ     \n",
       "t ↦ ── - ─────────\n",
       "    R        R    "
      ]
     },
     "execution_count": 9,
     "metadata": {},
     "output_type": "execute_result"
    }
   ],
   "source": [
    "i = sym.Function(\"eq2\")\n",
    "I_0, R, L, t, V= sym.symbols(\"I R L t V_0\")\n",
    "i = sym.Lambda(t, ((V/R)-(V/R*sym.E**((-R/L)*t))))\n",
    "i"
   ]
  },
  {
   "cell_type": "markdown",
   "metadata": {},
   "source": [
    "<p>Substituindo os valores de R, L, V<sub>0</sub> teremos a seguinte: </p> "
   ]
  },
  {
   "cell_type": "code",
   "execution_count": 10,
   "metadata": {},
   "outputs": [
    {
     "data": {
      "image/png": "[encoded data removed]",
      "text/latex": [
       "$\\displaystyle \\left( t \\mapsto \\frac{12}{47} - \\frac{12 e^{- 235.0 t}}{47} \\right)$"
      ],
      "text/plain": [
       "             -235.0⋅t\n",
       "    12   12⋅ℯ        \n",
       "t ↦ ── - ────────────\n",
       "    47        47     "
      ]
     },
     "execution_count": 10,
     "metadata": {},
     "output_type": "execute_result"
    }
   ],
   "source": [
    "i = i.subs([(R, 47), (L, 0.2),(V, 12)])\n",
    "i"
   ]
  },
  {
   "cell_type": "markdown",
   "metadata": {},
   "source": [
    "Temos a contante 𝜏"
   ]
  },
  {
   "cell_type": "code",
   "execution_count": 11,
   "metadata": {},
   "outputs": [
    {
     "data": {
      "image/png": "[encoded data removed]",
      "text/latex": [
       "$\\displaystyle \\frac{L}{R}$"
      ],
      "text/plain": [
       "L\n",
       "─\n",
       "R"
      ]
     },
     "execution_count": 11,
     "metadata": {},
     "output_type": "execute_result"
    }
   ],
   "source": [
    "𝜏 = sym.Function(\"tal\")\n",
    "𝜏 = L/R\n",
    "𝜏"
   ]
  },
  {
   "cell_type": "markdown",
   "metadata": {},
   "source": [
    "Substituindo os valores de L e R teremos 𝜏 igual a:"
   ]
  },
  {
   "cell_type": "code",
   "execution_count": 12,
   "metadata": {},
   "outputs": [
    {
     "data": {
      "image/png": "[encoded data removed]",
      "text/latex": [
       "$\\displaystyle 0.00425531914893617$"
      ],
      "text/plain": [
       "0.00425531914893617"
      ]
     },
     "execution_count": 12,
     "metadata": {},
     "output_type": "execute_result"
    }
   ],
   "source": [
    "𝜏 = 𝜏.subs([(R, 47), (L, 0.2)])\n",
    "𝜏"
   ]
  },
  {
   "cell_type": "markdown",
   "metadata": {},
   "source": [
    "Substituiremos o 𝜏 em nossa resposta forçada:"
   ]
  },
  {
   "cell_type": "code",
   "execution_count": 13,
   "metadata": {},
   "outputs": [
    {
     "data": {
      "image/png": "[encoded data removed]",
      "text/latex": [
       "$\\displaystyle 0.161392483105164$"
      ],
      "text/plain": [
       "0.161392483105164"
      ]
     },
     "execution_count": 13,
     "metadata": {},
     "output_type": "execute_result"
    }
   ],
   "source": [
    "i(𝜏)"
   ]
  },
  {
   "cell_type": "code",
   "execution_count": 14,
   "metadata": {},
   "outputs": [],
   "source": [
    "vetor = []\n",
    "for j in np.linspace(0,1,800):\n",
    "    vetor.append(i(j))"
   ]
  },
  {
   "cell_type": "code",
   "execution_count": 15,
   "metadata": {},
   "outputs": [
    {
     "data": {
      "image/png": "[encoded data removed]",
      "text/plain": [
       "<Figure size 864x432 with 1 Axes>"
      ]
     },
     "metadata": {
      "needs_background": "light"
     },
     "output_type": "display_data"
    }
   ],
   "source": [
    "#codigo para criação do nosso gráfico de resposta natural\n",
    "fig, ax = plt.subplots(figsize=(12,6))\n",
    "ax.plot(np.linspace(0,1,800), vetor, \"b-\", linewidth = 2, label= \"Corrente\")\n",
    "ax.plot(0.00425531914893617 , 0.161392483105164, \"o\")\n",
    "plt.xlim(0,0.04)\n",
    "plt.ylim(0,0.3)\n",
    "plt.legend()\n",
    "plt.hlines(0.161392483105164, 0, 0.00425531914893617, linestyles=\"dashed\")\n",
    "plt.vlines(0.00425531914893617, 0, 0.161392483105164, linestyles=\"dashed\")\n",
    "plt.title(\"Resposta Forçada \")\n",
    "plt.xlabel(\"Tempo\")\n",
    "plt.ylabel(\"i(t)\")\n",
    "ax.grid()\n",
    "ax.annotate( \"Constante de tempo\", xy=(0.00425531914893617, 0), xytext=(0.00225531914893617, -0.1),arrowprops=dict(facecolor='red', shrink=0.5, ), annotation_clip =False);"
   ]
  },
  {
   "cell_type": "markdown",
   "metadata": {},
   "source": [
    "<h4>Resposta completa</h4>"
   ]
  },
  {
   "cell_type": "code",
   "execution_count": 16,
   "metadata": {},
   "outputs": [
    {
     "data": {
      "image/png": "[encoded data removed]",
      "text/latex": [
       "$\\displaystyle \\left( t \\mapsto A_{0} e^{- \\frac{R t}{L}} + \\frac{V_{0}}{R} \\right)$"
      ],
      "text/plain": [
       "        -R⋅t      \n",
       "        ─────     \n",
       "          L     V₀\n",
       "t ↦ A₀⋅ℯ      + ──\n",
       "                R "
      ]
     },
     "execution_count": 16,
     "metadata": {},
     "output_type": "execute_result"
    }
   ],
   "source": [
    "i= sym.Function(\"eq3\") #definimos i sendo uma função\n",
    "A_0 ,I_0, R, L, t, V_0= sym.symbols(\"A_0 I_0 R L t V_0\") #definimos nossas variavéis \n",
    "i = sym.Lambda(t,( A_0*(sym.E**((-R/L)*t))+V_0/R)) #formula para resposta natural\n",
    "i"
   ]
  },
  {
   "cell_type": "code",
   "execution_count": 17,
   "metadata": {},
   "outputs": [
    {
     "data": {
      "image/png": "[encoded data removed]",
      "text/latex": [
       "$\\displaystyle \\left( t \\mapsto A_{0} e^{- 235.0 t} + \\frac{12}{47} \\right)$"
      ],
      "text/plain": [
       "        -235.0⋅t   12\n",
       "t ↦ A₀⋅ℯ         + ──\n",
       "                   47"
      ]
     },
     "execution_count": 17,
     "metadata": {},
     "output_type": "execute_result"
    }
   ],
   "source": [
    "i.subs([(R, 47), (L, 0.2),(V_0, 12)])"
   ]
  },
  {
   "cell_type": "code",
   "execution_count": 18,
   "metadata": {},
   "outputs": [],
   "source": [
    "i =i.subs([(R, 47), (L, 0.2),(V_0, 12)])"
   ]
  },
  {
   "cell_type": "code",
   "execution_count": 19,
   "metadata": {},
   "outputs": [
    {
     "data": {
      "image/png": "[encoded data removed]",
      "text/latex": [
       "$\\displaystyle A_{0} + \\frac{12}{47}$"
      ],
      "text/plain": [
       "     12\n",
       "A₀ + ──\n",
       "     47"
      ]
     },
     "execution_count": 19,
     "metadata": {},
     "output_type": "execute_result"
    }
   ],
   "source": [
    "i(0)"
   ]
  },
  {
   "cell_type": "code",
   "execution_count": 20,
   "metadata": {},
   "outputs": [],
   "source": [
    "A_0 = -I_0 +(12/45) "
   ]
  },
  {
   "cell_type": "code",
   "execution_count": 21,
   "metadata": {},
   "outputs": [
    {
     "data": {
      "image/png": "[encoded data removed]",
      "text/latex": [
       "$\\displaystyle -0.233333333333333$"
      ],
      "text/plain": [
       "-0.233333333333333"
      ]
     },
     "execution_count": 21,
     "metadata": {},
     "output_type": "execute_result"
    }
   ],
   "source": [
    "A_0.subs(I_0, 0.5)"
   ]
  },
  {
   "cell_type": "code",
   "execution_count": 22,
   "metadata": {},
   "outputs": [
    {
     "data": {
      "image/png": "[encoded data removed]",
      "text/latex": [
       "$\\displaystyle \\left( t \\mapsto \\frac{12}{47} - 0.233333333333333 e^{- 235.0 t} \\right)$"
      ],
      "text/plain": [
       "    12                      -235.0⋅t\n",
       "t ↦ ── - 0.233333333333333⋅ℯ        \n",
       "    47                              "
      ]
     },
     "execution_count": 22,
     "metadata": {},
     "output_type": "execute_result"
    }
   ],
   "source": [
    "A_0 ,I_0, R, L, t, V_0= sym.symbols(\"A_0 I_0 R L t V_0\")\n",
    "i =i.subs([(R, 47), (L, 0.2),(V_0, 12),(A_0, -0.233333333333333)])\n",
    "i"
   ]
  },
  {
   "cell_type": "code",
   "execution_count": 23,
   "metadata": {},
   "outputs": [],
   "source": [
    "vetor = []\n",
    "for j in np.linspace(0,1,800):\n",
    "    vetor.append(i(j))"
   ]
  },
  {
   "cell_type": "code",
   "execution_count": 24,
   "metadata": {},
   "outputs": [
    {
     "data": {
      "image/png": "[encoded data removed]",
      "text/plain": [
       "<Figure size 864x432 with 1 Axes>"
      ]
     },
     "metadata": {
      "needs_background": "light"
     },
     "output_type": "display_data"
    }
   ],
   "source": [
    "#codigo para criação do nosso gráfico de resposta natural\n",
    "fig, ax = plt.subplots(figsize=(12,6))\n",
    "ax.plot(np.linspace(0,1,800), vetor, \"b-\", linewidth = 2, label= \"Corrente\")\n",
    "ax.plot(0.00425531914893617 , 0.169480612662834, \"o\")\n",
    "plt.xlim(0,0.04)\n",
    "plt.ylim(0,0.3)\n",
    "plt.legend()\n",
    "plt.hlines(0.169480612662834, 0, 0.00425531914893617, linestyles=\"dashed\")\n",
    "plt.vlines(0.00425531914893617, 0, 0.169480612662834, linestyles=\"dashed\")\n",
    "plt.title(\"Resposta Completa \")\n",
    "plt.xlabel(\"Tempo\")\n",
    "plt.ylabel(\"i(t)\")\n",
    "ax.grid()\n",
    "ax.annotate( \"Constante de tempo\", xy=(0.00425531914893617, 0), xytext=(0.00225531914893617, -0.1),arrowprops=dict(facecolor='red', shrink=0.5, ), annotation_clip =False);"
   ]
  },
  {
   "cell_type": "markdown",
   "metadata": {},
   "source": [
    "<div>\n",
    "    <h3>Exercício 2</h3>\n",
    "    <p> <font size=\"3\" face=\"Verdana\">Exercício 2: Calcule a resposta natural, forçada e completa. Calcule também a\n",
    "constante de tempo (τ). Plotar as três curvas com o Octave. Não precisa representar\n",
    "as curvas no Falstad </font></p>\n",
    "    <img src=\"Captura de tela 2021-03-25 153108.png\" width=\"300\" height=\"200\">\n",
    "</div>"
   ]
  },
  {
   "cell_type": "markdown",
   "metadata": {},
   "source": [
    "<h4>Resposta Natural </h4>"
   ]
  },
  {
   "cell_type": "markdown",
   "metadata": {},
   "source": [
    "<p>Usaremos a imagem abaixo para entender o chaveamento conforme o tempo</p>\n",
    "<img src=\"chaveada.png\" width=\"300\" height=\"200\">"
   ]
  },
  {
   "cell_type": "code",
   "execution_count": 432,
   "metadata": {},
   "outputs": [],
   "source": [
    "t  = sym.symbols(\"t\")\n",
    "R, V_0  = sym.symbols(\"R V_0 \", integer =True) #declarando variáveis importantes\n",
    "C= sym.symbols(\"C\", integer = True) #declarando variáveis importantes\n",
    "V_c= sym.Function(\"V_c\")(t) #definimos uma função da tensão do capacitor em função do tempo\n",
    "i_c = sym.Function(\"i_c\")(t)#definimos uma função de corrente do capacitor em função do tempo"
   ]
  },
  {
   "cell_type": "code",
   "execution_count": 433,
   "metadata": {},
   "outputs": [
    {
     "data": {
      "image/png": "[encoded data removed]",
      "text/latex": [
       "$\\displaystyle \\operatorname{i_{c}}{\\left(t \\right)} = C \\frac{d}{d t} \\operatorname{V_{c}}{\\left(t \\right)}$"
      ],
      "text/plain": [
       "           d         \n",
       "i_c(t) = C⋅──(V_c(t))\n",
       "           dt        "
      ]
     },
     "execution_count": 433,
     "metadata": {},
     "output_type": "execute_result"
    }
   ],
   "source": [
    "sym.Eq(i_c, C*sym.Derivative(V_c, t))"
   ]
  },
  {
   "cell_type": "code",
   "execution_count": 434,
   "metadata": {},
   "outputs": [],
   "source": [
    "i_c = C*sym.Derivative(V_c, t)\n"
   ]
  },
  {
   "cell_type": "code",
   "execution_count": 435,
   "metadata": {},
   "outputs": [
    {
     "name": "stdout",
     "output_type": "stream",
     "text": [
      "Resposta natural para  \n"
     ]
    },
    {
     "data": {
      "image/png": "[encoded data removed]",
      "text/latex": [
       "$\\displaystyle t < 0$"
      ],
      "text/plain": [
       "t < 0"
      ]
     },
     "execution_count": 435,
     "metadata": {},
     "output_type": "execute_result"
    }
   ],
   "source": [
    "print(\"Resposta natural para  \",) \n",
    "t < 0"
   ]
  },
  {
   "cell_type": "markdown",
   "metadata": {},
   "source": [
    "Iremos considerar que t < 0 o circuito esta sendo carregado por uma fonte de 12 volts infinitamente, ou seja, ele estava se comportando como um regime permante.\n",
    "Sabemos que capacitores em regime permante se comportam como circuito aberto. Então em um instante pequeno antes do tempo zero sabemos que Vs(0-) = Vc. E como o capacitor não varia tensão instântaneamente sabemos que Vs(0+) = Vc.\n"
   ]
  },
  {
   "cell_type": "code",
   "execution_count": 436,
   "metadata": {},
   "outputs": [
    {
     "name": "stdout",
     "output_type": "stream",
     "text": [
      "Resposta natural para  \n"
     ]
    },
    {
     "data": {
      "image/png": "[encoded data removed]",
      "text/latex": [
       "$\\displaystyle t > 0$"
      ],
      "text/plain": [
       "t > 0"
      ]
     },
     "execution_count": 436,
     "metadata": {},
     "output_type": "execute_result"
    }
   ],
   "source": [
    "print(\"Resposta natural para  \",) \n",
    "t > 0"
   ]
  },
  {
   "cell_type": "markdown",
   "metadata": {},
   "source": [
    "No tempo maior que zero segundos a chave estará em seu segundo estágio, formando uma malha onde só iria possuir um capacitor e um resistor, como sabemos a soma da tensão do capacitor mais a tensão do resistir tem que ser igual a zero nessa malha.\n",
    "Logo abaixo fizemos a somatória das tensões e substituimos os valor da corrente do capacitor.\n"
   ]
  },
  {
   "cell_type": "code",
   "execution_count": 437,
   "metadata": {},
   "outputs": [
    {
     "name": "stdout",
     "output_type": "stream",
     "text": [
      "Somátoria das tensões\n"
     ]
    },
    {
     "data": {
      "image/png": "[encoded data removed]",
      "text/latex": [
       "$\\displaystyle C R \\frac{d}{d t} \\operatorname{V_{c}}{\\left(t \\right)} + \\operatorname{V_{c}}{\\left(t \\right)} = 0$"
      ],
      "text/plain": [
       "    d                      \n",
       "C⋅R⋅──(V_c(t)) + V_c(t) = 0\n",
       "    dt                     "
      ]
     },
     "execution_count": 437,
     "metadata": {},
     "output_type": "execute_result"
    }
   ],
   "source": [
    "eq = [None] * 20\n",
    "print(\"Somátoria das tensões\")\n",
    "f = i_c*R + V_c \n",
    "eq[0]= sym.Eq(f, 0)\n",
    "eq[0]"
   ]
  },
  {
   "cell_type": "markdown",
   "metadata": {},
   "source": [
    "Resolvendo essa Equação diferencial ordinaria encontraremos a seguinte equação para a tensão do capacitor"
   ]
  },
  {
   "cell_type": "code",
   "execution_count": 438,
   "metadata": {},
   "outputs": [
    {
     "data": {
      "image/png": "[encoded data removed]",
      "text/latex": [
       "$\\displaystyle \\operatorname{V_{c}}{\\left(t \\right)} = e^{\\frac{C_{1} - t}{C R}}$"
      ],
      "text/plain": [
       "          C₁ - t\n",
       "          ──────\n",
       "           C⋅R  \n",
       "V_c(t) = ℯ      "
      ]
     },
     "execution_count": 438,
     "metadata": {},
     "output_type": "execute_result"
    }
   ],
   "source": [
    "eq[1] = sym.dsolve(eq[0], V_c)\n",
    "eq[1]"
   ]
  },
  {
   "cell_type": "markdown",
   "metadata": {},
   "source": [
    "A formula final ficara"
   ]
  },
  {
   "cell_type": "code",
   "execution_count": 439,
   "metadata": {},
   "outputs": [],
   "source": [
    "V_c= sym.Function(\"V_c\")(t)\n",
    "V_c = sym.Lambda(t, V_0*sym.E**((-t)/(C*R)))\n",
    "V_c = V_c.subs([(R, 470),(C, 10*10**-6)])\n",
    "V_c = V_c.subs(V_0, 2)\n"
   ]
  },
  {
   "cell_type": "code",
   "execution_count": 440,
   "metadata": {},
   "outputs": [],
   "source": [
    "vetor = []\n",
    "for valor in (np.linspace(0,1,800)):\n",
    "    vetor.append(V_c(valor))\n",
    "    "
   ]
  },
  {
   "cell_type": "code",
   "execution_count": 441,
   "metadata": {},
   "outputs": [
    {
     "data": {
      "image/png": "[encoded data removed]",
      "text/plain": [
       "<Figure size 864x432 with 1 Axes>"
      ]
     },
     "metadata": {
      "needs_background": "light"
     },
     "output_type": "display_data"
    }
   ],
   "source": [
    "#codigo para criação do nosso gráfico de resposta natural\n",
    "fig, ax = plt.subplots(figsize=(12,6))\n",
    "ax.plot(np.linspace(0,1,800), vetor, \"b-\", linewidth = 2, label= \"Corrente\")\n",
    "plt.xlim(0,0.04)\n",
    "plt.ylim(0,2)\n",
    "plt.legend()\n",
    "plt.title(\"Resposta Natural \")\n",
    "plt.xlabel(\"Tempo\")\n",
    "plt.ylabel(\"Tensão no capacitor em função do tempo \")\n",
    "ax.grid()\n"
   ]
  }
 ],
 "metadata": {
  "kernelspec": {
   "display_name": "Python 3",
   "language": "python",
   "name": "python3"
  },
  "language_info": {
   "codemirror_mode": {
    "name": "ipython",
    "version": 3
   },
   "file_extension": ".py",
   "mimetype": "text/x-python",
   "name": "python",
   "nbconvert_exporter": "python",
   "pygments_lexer": "ipython3",
   "version": "3.8.5"
  }
 },
 "nbformat": 4,
 "nbformat_minor": 4
}
